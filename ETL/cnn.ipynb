{
 "cells": [
  {
   "cell_type": "code",
   "execution_count": 1,
   "metadata": {},
   "outputs": [],
   "source": [
    "from bs4 import BeautifulSoup as bs\n",
    "import requests\n",
    "#import pymongo\n",
    "import pandas as pd\n",
    "from splinter import Browser\n",
    "from datetime import datetime, timedelta"
   ]
  },
  {
   "cell_type": "code",
   "execution_count": 2,
   "metadata": {},
   "outputs": [],
   "source": [
    "url = 'https://www.cnn.com'"
   ]
  },
  {
   "cell_type": "code",
   "execution_count": 3,
   "metadata": {},
   "outputs": [],
   "source": [
    "executable_path = {'executable_path': '/usr/local/bin/chromedriver'}\n",
    "browser = Browser('chrome', **executable_path, headless=False)"
   ]
  },
  {
   "cell_type": "code",
   "execution_count": 4,
   "metadata": {},
   "outputs": [],
   "source": [
    "browser.visit(url)"
   ]
  },
  {
   "cell_type": "code",
   "execution_count": 5,
   "metadata": {},
   "outputs": [
    {
     "data": {
      "text/plain": [
       "'<html class=\"js no-flash geolocation websockets lo'"
      ]
     },
     "execution_count": 5,
     "metadata": {},
     "output_type": "execute_result"
    }
   ],
   "source": [
    "html = browser.html\n",
    "html[0:50]"
   ]
  },
  {
   "cell_type": "code",
   "execution_count": 6,
   "metadata": {},
   "outputs": [
    {
     "data": {
      "text/plain": [
       "bs4.BeautifulSoup"
      ]
     },
     "execution_count": 6,
     "metadata": {},
     "output_type": "execute_result"
    }
   ],
   "source": [
    "soup = bs(html, 'lxml')\n",
    "type(soup)"
   ]
  },
  {
   "cell_type": "code",
   "execution_count": 7,
   "metadata": {},
   "outputs": [],
   "source": [
    "#print(soup.prettify())"
   ]
  },
  {
   "cell_type": "code",
   "execution_count": 8,
   "metadata": {},
   "outputs": [
    {
     "data": {
      "text/plain": [
       "'USWorldPoliticsBusinessOpinionHealthEntertainmentStyleTravelSportsVideosEditionU.S.InternationalArabicEspañolSearchEditionU.S.InternationalArabicEspañolUSCrime + JusticeEnergy + EnvironmentExtreme WeatherSpace + ScienceWorldAfricaAmericasAsiaAustraliaChinaEuropeIndiaMiddle EastUnited KingdomPoliticsDonald TrumpSupreme CourtCongressFacts First2020 ElectionBusinessMarketsTechMediaSuccessPerspectivesVideosOpinionPolitical Op-EdsSocial CommentaryHealthFoodFitnessWellnessParentingVital SignsEntertainmentStarsScreenBingeCultureMediaTechInnovateGadgetForeseeable FutureMission: AheadUpstartsWork TransformedInnovative CitiesStyleArtsDesignFashionArchitectureLuxuryBeautyVideoTravelDestinationsFood and DrinkStayNewsVideosSportsPro FootballCollege FootballBasketballBaseballSoccerOlympicsVideosLive TV Digital StudiosCNN FilmsHLNTV ScheduleTV Shows A-ZCNNVRCouponsCNN UnderscoredExploreWellnessGadgetsLifestyleCNN StoreMorePhotosLongformInvestigationsCNN ProfilesCNN LeadershipCNN NewslettersWork for CNNWeatherClimateStorm TrackerVideoFollow CNN '"
      ]
     },
     "execution_count": 8,
     "metadata": {},
     "output_type": "execute_result"
    }
   ],
   "source": [
    "soup.header.text"
   ]
  },
  {
   "cell_type": "code",
   "execution_count": null,
   "metadata": {},
   "outputs": [],
   "source": []
  },
  {
   "cell_type": "code",
   "execution_count": 39,
   "metadata": {},
   "outputs": [],
   "source": [
    "cnn = soup.find('a',attrs={'class':'Text-sc-1amvtpj-0-a Link-sc-1hkqz5e-0 jlzTwO'})['href']\n",
    "title = soup.find(class_=\"cd__headline-text\")\n",
    "href = soup.find_all(class_=\"cd__headline-text\")"
   ]
  },
  {
   "cell_type": "code",
   "execution_count": 40,
   "metadata": {},
   "outputs": [
    {
     "data": {
      "text/plain": [
       "1"
      ]
     },
     "execution_count": 40,
     "metadata": {},
     "output_type": "execute_result"
    }
   ],
   "source": [
    "len(title)"
   ]
  },
  {
   "cell_type": "code",
   "execution_count": 46,
   "metadata": {},
   "outputs": [],
   "source": [
    "titles = []\n",
    "title = soup.find(class_=\"cd__headline-text\")\n",
    "\n",
    "for headline in title:\n",
    "    titles.append(title.text)"
   ]
  },
  {
   "cell_type": "code",
   "execution_count": 47,
   "metadata": {},
   "outputs": [
    {
     "data": {
      "text/plain": [
       "['Coronavirus']"
      ]
     },
     "execution_count": 47,
     "metadata": {},
     "output_type": "execute_result"
    }
   ],
   "source": [
    "titles"
   ]
  },
  {
   "cell_type": "code",
   "execution_count": null,
   "metadata": {},
   "outputs": [],
   "source": []
  },
  {
   "cell_type": "code",
   "execution_count": null,
   "metadata": {},
   "outputs": [],
   "source": []
  }
 ],
 "metadata": {
  "kernelspec": {
   "display_name": "Python 3",
   "language": "python",
   "name": "python3"
  },
  "language_info": {
   "codemirror_mode": {
    "name": "ipython",
    "version": 3
   },
   "file_extension": ".py",
   "mimetype": "text/x-python",
   "name": "python",
   "nbconvert_exporter": "python",
   "pygments_lexer": "ipython3",
   "version": "3.7.6"
  }
 },
 "nbformat": 4,
 "nbformat_minor": 4
}
